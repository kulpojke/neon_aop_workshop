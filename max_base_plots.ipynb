{
 "cells": [
  {
   "cell_type": "code",
   "execution_count": 1,
   "metadata": {},
   "outputs": [],
   "source": [
    "import rasterio as rio \n",
    "import gdal\n",
    "import math\n",
    "import requests\n",
    "import zipfile\n",
    "import os\n",
    "import pandas as pd \n",
    "import geopandas as gpd\n",
    "import numpy as np\n",
    "import subprocess"
   ]
  },
  {
   "cell_type": "code",
   "execution_count": 2,
   "metadata": {},
   "outputs": [],
   "source": [
    "def round1000(x):\n",
    "    ''' \n",
    "    round1000(x):\n",
    "    Rounds value to nearest 1000\n",
    "    '''\n",
    "    return(1000 * math.floor(x / 1000))"
   ]
  },
  {
   "cell_type": "code",
   "execution_count": 3,
   "metadata": {},
   "outputs": [],
   "source": [
    "@np.vectorize\n",
    "def is_on_boundary(x, y):\n",
    "    '''\n",
    "    Returns: \n",
    "    0 if false,\n",
    "    'hor' if on horizaontal boundary,\n",
    "    'ver' if on verticle boudry\n",
    "    '''\n",
    "    answer = 0\n",
    "    r = 20\n",
    "    extent  = [x - r , x + r , y - r , y + r ]\n",
    "    names   = ['xMin', 'xMax', 'yMin', 'yMax']\n",
    "    extent = dict(zip(names, extent)) \n",
    "\n",
    "    # get tile coords\n",
    "    tile_east =  round1000(x)\n",
    "    tile_north =  round1000(y)\n",
    "\n",
    "    answer = (f'{tile_east}_{tile_north}')\n",
    "    \n",
    "    # If the plot is on a horizontal tile boundary,\n",
    "    # that boundary falls between yMax and yMin\n",
    "    bound_below = round1000(extent['yMax'])\n",
    "    if  bound_below >= extent['yMin']:\n",
    "        answer = 'hor'\n",
    "\n",
    "    # If the plot is on a vertical tile boundary,\n",
    "    # that boundary falls between xMax and xMin\n",
    "    bound_left = round1000(extent['xMax'])\n",
    "    if  bound_left >= extent['xMin']:\n",
    "        answer = 'ver'\n",
    "        \n",
    "    return(answer)\n"
   ]
  },
  {
   "cell_type": "code",
   "execution_count": 4,
   "metadata": {},
   "outputs": [],
   "source": [
    "def get_plot_coords(plot_spdf):\n",
    "    '''\n",
    "    Takes base column array of plot entries, calculates coordinates\n",
    "    of tiles and returns them as a column vector of strings\n",
    "    '''\n",
    "    x = plot_spdf['easting']\n",
    "    y = plot_spdf['northing']\n",
    "    boundary = is_on_boundary(x, y)\n",
    "    return(boundary)"
   ]
  },
  {
   "cell_type": "code",
   "execution_count": 5,
   "metadata": {},
   "outputs": [],
   "source": [
    "def download_plots_shp(data_path='/home/jovyan/data/all_plots/'):\n",
    "    '''\n",
    "    Downloads the NEON TOS plots data\n",
    "    \n",
    "    --------\n",
    "    Parameters\n",
    "    --------\n",
    "    data_path path to which data will be downloaded\n",
    "    '''\n",
    "    # make data directory exists \n",
    "    os.makedirs(data_path, exist_ok=True)\n",
    "\n",
    "    handle = requests.get(url='https://data.neonscience.org/api/v0/documents/All_NEON_TOS_Plots_V8')\n",
    "    \n",
    "    with open(data_path + 'All_NEON_TOS_Plots_V8.zip', 'wb') as f:\n",
    "        f.write(handle.content)\n",
    "    \n",
    "    with zipfile.ZipFile(data_path + 'All_NEON_TOS_Plots_V8.zip', 'r') as zip_ref:\n",
    "        zip_ref.extractall(data_path)\n",
    "\n",
    "    NEON_all_plots = gpd.read_file(f'{data_path}All_NEON_TOS_Plots_V8/All_NEON_TOS_Plot_Polygons_V8.shp')\n",
    "    \n",
    "    return(NEON_all_plots)"
   ]
  },
  {
   "cell_type": "code",
   "execution_count": 6,
   "metadata": {},
   "outputs": [],
   "source": [
    "NEON_all_plots = download_plots_shp()"
   ]
  },
  {
   "cell_type": "code",
   "execution_count": 77,
   "metadata": {},
   "outputs": [],
   "source": [
    "sitecodes = ['BART', 'TEAK', 'HARV']"
   ]
  },
  {
   "cell_type": "code",
   "execution_count": 82,
   "metadata": {},
   "outputs": [],
   "source": [
    "def define_sites_of_interest(sitecodes, cull_boundary_plots=True):\n",
    "    NEON_all_plots = download_plots_shp()\n",
    "    for sitecode in sitecodes:\n",
    "        # find all base plots for the sitecode\n",
    "        base_plots_SPDF = NEON_all_plots.loc[(NEON_all_plots.siteID == sitecode) & (NEON_all_plots.subtype == 'basePlot')]\n",
    "        # make a dataframe of plot coordinates\n",
    "        coord_df =  pd.DataFrame()\n",
    "        coord_df['plotID'] = base_plots_SPDF.plotID\n",
    "        coord_df['coord_String'] = get_plot_coords(base_plots_SPDF)\n",
    "        # Remove plots that cross a mosaic tile boundary.\n",
    "        # Maybe not necessary if we are using EPTs\n",
    "        # and cloud based tiled tifs?\n",
    "        if cull_boundary_plots:\n",
    "            coord_df = coord_df.loc[(coord_df.coord_String != 'hor') & (coord_df.coord_String != 'ver')]\n",
    "        # count how many plots are in each mosaic tile\n",
    "        coord_count = coord_df.groupby('coord_String')['plotID'].apply(list)\n",
    "        return(coord_count)"
   ]
  },
  {
   "cell_type": "code",
   "execution_count": 83,
   "metadata": {},
   "outputs": [],
   "source": [
    "coord_count = define_sites_of_interest(sitecodes)"
   ]
  },
  {
   "cell_type": "code",
   "execution_count": null,
   "metadata": {},
   "outputs": [],
   "source": []
  },
  {
   "cell_type": "code",
   "execution_count": 10,
   "metadata": {},
   "outputs": [],
   "source": [
    "def download_cyverse_iput(files_dict, iput_path, username):\n",
    "    '''\n",
    "    Downloads and saves data to iROD server using cyverse\n",
    "    using icomands.  A connection must be established using\n",
    "    iinit before this can be used. For more info see:\n",
    "    https://cyverse-2020-neon-aop-workshop.readthedocs-hosted.com/en/latest/step4.html\n",
    "\n",
    "    --------\n",
    "    Parameters\n",
    "    --------\n",
    "    files_dict - a dictionary with file names as keys and api urls as values\n",
    "    iput_path  - path on the server where files are to be stored\n",
    "    username   - cyverse userneame    \n",
    "    '''\n",
    "    for fname, url in files_dict.items():\n",
    "        # make sure target directory exists on server\n",
    "        \n",
    "        \n",
    "        \n",
    "        # download \n",
    "        response = requests.get(url)\n",
    "        with open(f'data/{fname}', 'wb') as f:\n",
    "            f.write(response.content)\n",
    "        # copy to server\n",
    "        cmd = f'iput -KPf {fname} /iplant/home/{username}/data/{fname}'\n",
    "        answer = subprocess.call(cmd, shell=True)\n",
    "        # verify transfer\n",
    "        if 'ERROR' in answer:\n",
    "            print(answer)\n",
    "        \n",
    "        # remove local file"
   ]
  },
  {
   "cell_type": "code",
   "execution_count": 11,
   "metadata": {},
   "outputs": [],
   "source": [
    "def download_local(files_dict, savedir, username=None):\n",
    "    '''\n",
    "    saves files into savedir.\n",
    "    username only exists to make the signature match\n",
    "    that of download_cyverse_iput\n",
    "    '''\n",
    "    savedir.rstrip('/')\n",
    "    for fname, url in files_dict.items():\n",
    "        # make sure target directory exists \n",
    "        os.makedirs(savedir, exist_ok=True)       \n",
    "        # download \n",
    "        response = requests.get(url)\n",
    "        with open(f'{savedir}/{fname}', 'wb') as f:\n",
    "            f.write(response.content)"
   ]
  },
  {
   "cell_type": "code",
   "execution_count": 114,
   "metadata": {},
   "outputs": [],
   "source": [
    "def get_AOP_from_API(coord_count, sitecodes, productcodes, daterange = 'most recent', download_func=download_local, username=None, savedir='data'):\n",
    "    '''\n",
    "    Downloads files from the NEON AOP API.\n",
    "    \n",
    "    --------\n",
    "    Parameters\n",
    "    --------\n",
    "    coord_count   - list of local UTM coordinates, as strings,  seperated by '_', \n",
    "                    like the output of define_sites_of_interest()\n",
    "    \n",
    "    sitecodes     - list of NEON sitecodes, e.g. ['BART', 'TEAK']\n",
    "    \n",
    "    productcodes  - list of NEON AOP product codes, e.g.\n",
    "                    ['DP3.30006.001', 'DP3.30006.001'].\n",
    "                    If codes are not for AOP products errors will result.\n",
    "                    There is no exception handling built in for this case.\n",
    "    \n",
    "    daterange     - list of yyyy-mm dates for each desired month, e.g.\n",
    "                    ['2019-08', '2019-09', '2019-10'], or 'most recent'\n",
    "                    for most recent available month.\n",
    "                   \n",
    "    download_func - function specifying where the data should be saved.\n",
    "                    Some functions are provided in this library (download_local \n",
    "                    and download_cyverse_iput)User defined functions must fit \n",
    "                    the signature func(files_dict, savedir, username), where:\n",
    "                        - files_dict is a dictionary of the form \n",
    "                          {'filename' : 'download_url'}\n",
    "                        - savedir specifies the directory where files will be saved \n",
    "                          (specified by the keyword argument 'savedir' (see below).)\n",
    "                        - username if needed is is a username to access remote storage,\n",
    "                          if not needed  is None. (this argument is need for \n",
    "                          download_cyverse_iput)\n",
    "                    If not specified, defaults to download_local, see docstring of\n",
    "                    download_local and download_cyverse_iput for more information.\n",
    "    \n",
    "    username      - Username for remote storage if needed. Defaults to None.\n",
    "\n",
    "    savedir       - Path to directory where downloads will be saved.  \n",
    "    '''    \n",
    "    server = 'https://data.neonscience.org/api/v0/'\n",
    "    for site in sitecodes:\n",
    "        for product in productcodes:\n",
    "            url = f'{server}sites/{site}'\n",
    "            response = requests.get(url)\n",
    "            data = response.json()['data']\n",
    "            dates = data['dataProducts'][0]['availableMonths']\n",
    "            if daterange == 'most recent':\n",
    "                # get the most recent date\n",
    "                dates = [max(dates)]\n",
    "            else:\n",
    "                try:\n",
    "                    # get dates in the range\n",
    "                    assert isinstance(daterange,list)\n",
    "                    begin, terminate = min(daterange), max(daterange)\n",
    "                    dates = [d  for d in dates if (d >= begin) and (d <= terminate)]                 \n",
    "                except AssertionError:\n",
    "                    print('daterange must be a list, e.g. [\\'2020-10\\', \\'2019-10\\']')\n",
    "                    return(None)\n",
    "            # determine the existing products for the dates \n",
    "            for date in dates:\n",
    "                url = f'{server}data/{product}/{site}/{date}'\n",
    "                response = requests.get(url)\n",
    "                data = response.json()\n",
    "                fnames = data['data']['files']\n",
    "                files_dict = dict()\n",
    "                plots_list = []\n",
    "                for f in fnames:\n",
    "                    for coord, plotIDs in coord_count.items():\n",
    "                        if coord in f['name']:\n",
    "                            files_dict[f['name']] = f['url']\n",
    "                            plots_list.append(plotIDs) \n",
    "            # download the files\n",
    "            try:\n",
    "                download_func(files_dict, savedir, username)\n",
    "            except Exception as e:\n",
    "                print(f'This happened:\\n\\n{e}')\n",
    "        print(f'Done downloading files to {savedir}') \n",
    "    files_df = pd.DataFrame.from_dict(files_dict, orient='index', columns=['url'])\n",
    "    files_df['plotIDs'] = plots_list\n",
    "    return(files_df, sitecodes)\n",
    "                \n",
    "   "
   ]
  },
  {
   "cell_type": "code",
   "execution_count": 116,
   "metadata": {},
   "outputs": [
    {
     "name": "stdout",
     "output_type": "stream",
     "text": [
      "Done downloading files to data\n"
     ]
    }
   ],
   "source": [
    "files_df, sitecodes = get_AOP_from_API(coord_count, ['BART'],productcodes=['DP3.30006.001'] ,daterange=['2019-08', '2019-08'])"
   ]
  },
  {
   "cell_type": "code",
   "execution_count": 117,
   "metadata": {},
   "outputs": [
    {
     "data": {
      "text/html": [
       "<div>\n",
       "<style scoped>\n",
       "    .dataframe tbody tr th:only-of-type {\n",
       "        vertical-align: middle;\n",
       "    }\n",
       "\n",
       "    .dataframe tbody tr th {\n",
       "        vertical-align: top;\n",
       "    }\n",
       "\n",
       "    .dataframe thead th {\n",
       "        text-align: right;\n",
       "    }\n",
       "</style>\n",
       "<table border=\"1\" class=\"dataframe\">\n",
       "  <thead>\n",
       "    <tr style=\"text-align: right;\">\n",
       "      <th></th>\n",
       "      <th>url</th>\n",
       "      <th>plotIDs</th>\n",
       "    </tr>\n",
       "  </thead>\n",
       "  <tbody>\n",
       "    <tr>\n",
       "      <th>NEON_D01_BART_DP3_316000_4881000_reflectance.h5</th>\n",
       "      <td>https://neon-aop-products.s3.data.neonscience....</td>\n",
       "      <td>[BART_039, BART_040, BART_050, BART_041, BART_...</td>\n",
       "    </tr>\n",
       "    <tr>\n",
       "      <th>NEON_D01_BART_DP3_314000_4881000_reflectance.h5</th>\n",
       "      <td>https://neon-aop-products.s3.data.neonscience....</td>\n",
       "      <td>[BART_026, BART_006, BART_025]</td>\n",
       "    </tr>\n",
       "    <tr>\n",
       "      <th>NEON_D01_BART_DP3_316000_4879000_reflectance.h5</th>\n",
       "      <td>https://neon-aop-products.s3.data.neonscience....</td>\n",
       "      <td>[BART_004]</td>\n",
       "    </tr>\n",
       "  </tbody>\n",
       "</table>\n",
       "</div>"
      ],
      "text/plain": [
       "                                                                                               url  \\\n",
       "NEON_D01_BART_DP3_316000_4881000_reflectance.h5  https://neon-aop-products.s3.data.neonscience....   \n",
       "NEON_D01_BART_DP3_314000_4881000_reflectance.h5  https://neon-aop-products.s3.data.neonscience....   \n",
       "NEON_D01_BART_DP3_316000_4879000_reflectance.h5  https://neon-aop-products.s3.data.neonscience....   \n",
       "\n",
       "                                                                                           plotIDs  \n",
       "NEON_D01_BART_DP3_316000_4881000_reflectance.h5  [BART_039, BART_040, BART_050, BART_041, BART_...  \n",
       "NEON_D01_BART_DP3_314000_4881000_reflectance.h5                     [BART_026, BART_006, BART_025]  \n",
       "NEON_D01_BART_DP3_316000_4879000_reflectance.h5                                         [BART_004]  "
      ]
     },
     "execution_count": 117,
     "metadata": {},
     "output_type": "execute_result"
    }
   ],
   "source": [
    "files_df.head(3)"
   ]
  },
  {
   "cell_type": "code",
   "execution_count": 135,
   "metadata": {},
   "outputs": [],
   "source": [
    "def make_tile_csv(files_df, sitecodes, savedir='data'):\n",
    "    part = '_'.join(sitecodes)\n",
    "    filename = f'tile_list_{part}.csv'\n",
    "    files_df.to_csv(filename)\n",
    "    return(filename)"
   ]
  },
  {
   "cell_type": "code",
   "execution_count": 136,
   "metadata": {},
   "outputs": [],
   "source": [
    "fname = make_tile_csv(files_df, sitecodes)"
   ]
  },
  {
   "cell_type": "code",
   "execution_count": 138,
   "metadata": {},
   "outputs": [
    {
     "data": {
      "text/html": [
       "<div>\n",
       "<style scoped>\n",
       "    .dataframe tbody tr th:only-of-type {\n",
       "        vertical-align: middle;\n",
       "    }\n",
       "\n",
       "    .dataframe tbody tr th {\n",
       "        vertical-align: top;\n",
       "    }\n",
       "\n",
       "    .dataframe thead th {\n",
       "        text-align: right;\n",
       "    }\n",
       "</style>\n",
       "<table border=\"1\" class=\"dataframe\">\n",
       "  <thead>\n",
       "    <tr style=\"text-align: right;\">\n",
       "      <th></th>\n",
       "      <th>Unnamed: 0</th>\n",
       "      <th>url</th>\n",
       "      <th>plotIDs</th>\n",
       "    </tr>\n",
       "  </thead>\n",
       "  <tbody>\n",
       "    <tr>\n",
       "      <th>0</th>\n",
       "      <td>NEON_D01_BART_DP3_316000_4881000_reflectance.h5</td>\n",
       "      <td>https://neon-aop-products.s3.data.neonscience....</td>\n",
       "      <td>['BART_039', 'BART_040', 'BART_050', 'BART_041...</td>\n",
       "    </tr>\n",
       "    <tr>\n",
       "      <th>1</th>\n",
       "      <td>NEON_D01_BART_DP3_314000_4881000_reflectance.h5</td>\n",
       "      <td>https://neon-aop-products.s3.data.neonscience....</td>\n",
       "      <td>['BART_026', 'BART_006', 'BART_025']</td>\n",
       "    </tr>\n",
       "    <tr>\n",
       "      <th>2</th>\n",
       "      <td>NEON_D01_BART_DP3_316000_4879000_reflectance.h5</td>\n",
       "      <td>https://neon-aop-products.s3.data.neonscience....</td>\n",
       "      <td>['BART_004']</td>\n",
       "    </tr>\n",
       "    <tr>\n",
       "      <th>3</th>\n",
       "      <td>NEON_D01_BART_DP3_316000_4880000_reflectance.h5</td>\n",
       "      <td>https://neon-aop-products.s3.data.neonscience....</td>\n",
       "      <td>['BART_016', 'BART_029']</td>\n",
       "    </tr>\n",
       "    <tr>\n",
       "      <th>4</th>\n",
       "      <td>NEON_D01_BART_DP3_317000_4880000_reflectance.h5</td>\n",
       "      <td>https://neon-aop-products.s3.data.neonscience....</td>\n",
       "      <td>['BART_018', 'BART_005']</td>\n",
       "    </tr>\n",
       "  </tbody>\n",
       "</table>\n",
       "</div>"
      ],
      "text/plain": [
       "                                        Unnamed: 0  \\\n",
       "0  NEON_D01_BART_DP3_316000_4881000_reflectance.h5   \n",
       "1  NEON_D01_BART_DP3_314000_4881000_reflectance.h5   \n",
       "2  NEON_D01_BART_DP3_316000_4879000_reflectance.h5   \n",
       "3  NEON_D01_BART_DP3_316000_4880000_reflectance.h5   \n",
       "4  NEON_D01_BART_DP3_317000_4880000_reflectance.h5   \n",
       "\n",
       "                                                 url  \\\n",
       "0  https://neon-aop-products.s3.data.neonscience....   \n",
       "1  https://neon-aop-products.s3.data.neonscience....   \n",
       "2  https://neon-aop-products.s3.data.neonscience....   \n",
       "3  https://neon-aop-products.s3.data.neonscience....   \n",
       "4  https://neon-aop-products.s3.data.neonscience....   \n",
       "\n",
       "                                             plotIDs  \n",
       "0  ['BART_039', 'BART_040', 'BART_050', 'BART_041...  \n",
       "1               ['BART_026', 'BART_006', 'BART_025']  \n",
       "2                                       ['BART_004']  \n",
       "3                           ['BART_016', 'BART_029']  \n",
       "4                           ['BART_018', 'BART_005']  "
      ]
     },
     "execution_count": 138,
     "metadata": {},
     "output_type": "execute_result"
    }
   ],
   "source": [
    "pd.read_csv(fname).head()"
   ]
  },
  {
   "cell_type": "code",
   "execution_count": 74,
   "metadata": {},
   "outputs": [
    {
     "name": "stdout",
     "output_type": "stream",
     "text": [
      "Done downloading files to data\n"
     ]
    }
   ],
   "source": [
    "files_dict, sitecodes = get_AOP_from_API(coord_count, ['BART'],productcodes=['DP3.30015.001'] ,daterange=['2019-08', '2019-08'])"
   ]
  },
  {
   "cell_type": "code",
   "execution_count": 92,
   "metadata": {},
   "outputs": [
    {
     "name": "stdout",
     "output_type": "stream",
     "text": [
      "314000_4879000\n",
      "314000_4880000\n",
      "314000_4881000\n",
      "315000_4879000\n",
      "315000_4880000\n",
      "316000_4879000\n",
      "316000_4880000\n",
      "316000_4881000\n",
      "316000_4882000\n",
      "317000_4878000\n",
      "317000_4879000\n",
      "317000_4880000\n",
      "317000_4881000\n",
      "318000_4879000\n",
      "318000_4880000\n",
      "318000_4881000\n"
     ]
    }
   ],
   "source": [
    "for f in coord_count.index:\n",
    "    print(f)"
   ]
  },
  {
   "cell_type": "code",
   "execution_count": 101,
   "metadata": {},
   "outputs": [],
   "source": [
    "f_df = pd.DataFrame.from_dict(files_dict, orient='index', columns=['url'])"
   ]
  },
  {
   "cell_type": "code",
   "execution_count": 102,
   "metadata": {},
   "outputs": [
    {
     "data": {
      "text/html": [
       "<div>\n",
       "<style scoped>\n",
       "    .dataframe tbody tr th:only-of-type {\n",
       "        vertical-align: middle;\n",
       "    }\n",
       "\n",
       "    .dataframe tbody tr th {\n",
       "        vertical-align: top;\n",
       "    }\n",
       "\n",
       "    .dataframe thead th {\n",
       "        text-align: right;\n",
       "    }\n",
       "</style>\n",
       "<table border=\"1\" class=\"dataframe\">\n",
       "  <thead>\n",
       "    <tr style=\"text-align: right;\">\n",
       "      <th></th>\n",
       "      <th>url</th>\n",
       "    </tr>\n",
       "  </thead>\n",
       "  <tbody>\n",
       "    <tr>\n",
       "      <th>NEON_D01_BART_DP1_317000_4880000_classified_point_cloud.shp</th>\n",
       "      <td>https://neon-aop-products.s3.data.neonscience....</td>\n",
       "    </tr>\n",
       "    <tr>\n",
       "      <th>NEON_D01_BART_DP1_317000_4881000_classified_point_cloud.shx</th>\n",
       "      <td>https://neon-aop-products.s3.data.neonscience....</td>\n",
       "    </tr>\n",
       "    <tr>\n",
       "      <th>NEON_D01_BART_DP1_315000_4880000_classified_point_cloud.shx</th>\n",
       "      <td>https://neon-aop-products.s3.data.neonscience....</td>\n",
       "    </tr>\n",
       "    <tr>\n",
       "      <th>NEON_D01_BART_DP1_318000_4879000_classified_point_cloud.prj</th>\n",
       "      <td>https://neon-aop-products.s3.data.neonscience....</td>\n",
       "    </tr>\n",
       "    <tr>\n",
       "      <th>NEON_D01_BART_DP1_318000_4880000_classified_point_cloud.kml</th>\n",
       "      <td>https://neon-aop-products.s3.data.neonscience....</td>\n",
       "    </tr>\n",
       "    <tr>\n",
       "      <th>...</th>\n",
       "      <td>...</td>\n",
       "    </tr>\n",
       "    <tr>\n",
       "      <th>NEON_D01_BART_DP1_317000_4879000_classified_point_cloud.kml</th>\n",
       "      <td>https://neon-aop-products.s3.data.neonscience....</td>\n",
       "    </tr>\n",
       "    <tr>\n",
       "      <th>NEON_D01_BART_DP1_317000_4878000_classified_point_cloud.kml</th>\n",
       "      <td>https://neon-aop-products.s3.data.neonscience....</td>\n",
       "    </tr>\n",
       "    <tr>\n",
       "      <th>NEON_D01_BART_DP1_318000_4879000_classified_point_cloud.shx</th>\n",
       "      <td>https://neon-aop-products.s3.data.neonscience....</td>\n",
       "    </tr>\n",
       "    <tr>\n",
       "      <th>NEON_D01_BART_DP1_317000_4879000_classified_point_cloud.prj</th>\n",
       "      <td>https://neon-aop-products.s3.data.neonscience....</td>\n",
       "    </tr>\n",
       "    <tr>\n",
       "      <th>NEON_D01_BART_DP1_316000_4879000_classified_point_cloud.shx</th>\n",
       "      <td>https://neon-aop-products.s3.data.neonscience....</td>\n",
       "    </tr>\n",
       "  </tbody>\n",
       "</table>\n",
       "<p>96 rows × 1 columns</p>\n",
       "</div>"
      ],
      "text/plain": [
       "                                                                                                  url\n",
       "NEON_D01_BART_DP1_317000_4880000_classified_poi...  https://neon-aop-products.s3.data.neonscience....\n",
       "NEON_D01_BART_DP1_317000_4881000_classified_poi...  https://neon-aop-products.s3.data.neonscience....\n",
       "NEON_D01_BART_DP1_315000_4880000_classified_poi...  https://neon-aop-products.s3.data.neonscience....\n",
       "NEON_D01_BART_DP1_318000_4879000_classified_poi...  https://neon-aop-products.s3.data.neonscience....\n",
       "NEON_D01_BART_DP1_318000_4880000_classified_poi...  https://neon-aop-products.s3.data.neonscience....\n",
       "...                                                                                               ...\n",
       "NEON_D01_BART_DP1_317000_4879000_classified_poi...  https://neon-aop-products.s3.data.neonscience....\n",
       "NEON_D01_BART_DP1_317000_4878000_classified_poi...  https://neon-aop-products.s3.data.neonscience....\n",
       "NEON_D01_BART_DP1_318000_4879000_classified_poi...  https://neon-aop-products.s3.data.neonscience....\n",
       "NEON_D01_BART_DP1_317000_4879000_classified_poi...  https://neon-aop-products.s3.data.neonscience....\n",
       "NEON_D01_BART_DP1_316000_4879000_classified_poi...  https://neon-aop-products.s3.data.neonscience....\n",
       "\n",
       "[96 rows x 1 columns]"
      ]
     },
     "execution_count": 102,
     "metadata": {},
     "output_type": "execute_result"
    }
   ],
   "source": [
    "for coord in coord_count.index:"
   ]
  },
  {
   "cell_type": "code",
   "execution_count": 103,
   "metadata": {},
   "outputs": [],
   "source": [
    "df = pd.DataFrame({'age': [20, 32], 'state': ['NY', 'CA'], 'point': [64, 92]},\n",
    "                  index=['Alice', 'Bob'])"
   ]
  },
  {
   "cell_type": "code",
   "execution_count": 112,
   "metadata": {},
   "outputs": [
    {
     "name": "stdout",
     "output_type": "stream",
     "text": [
      "314000_4879000\n",
      "['BART_012', 'BART_080', 'BART_079']\n",
      "314000_4880000\n",
      "['BART_066']\n",
      "314000_4881000\n",
      "['BART_026', 'BART_006', 'BART_025']\n",
      "315000_4879000\n",
      "['BART_001', 'BART_007']\n",
      "315000_4880000\n",
      "['BART_030', 'BART_031', 'BART_028', 'BART_062']\n",
      "316000_4879000\n",
      "['BART_004']\n",
      "316000_4880000\n",
      "['BART_016', 'BART_029']\n",
      "316000_4881000\n",
      "['BART_039', 'BART_040', 'BART_050', 'BART_041', 'BART_042', 'BART_034', 'BART_046', 'BART_047', 'BART_072', 'BART_073', 'BART_036', 'BART_032', 'BART_071', 'BART_051']\n",
      "316000_4882000\n",
      "['BART_019']\n",
      "317000_4878000\n",
      "['BART_002']\n",
      "317000_4879000\n",
      "['BART_013', 'BART_015']\n",
      "317000_4880000\n",
      "['BART_018', 'BART_005']\n",
      "317000_4881000\n",
      "['BART_074', 'BART_070', 'BART_033', 'BART_044', 'BART_037']\n",
      "318000_4879000\n",
      "['BART_023', 'BART_010']\n",
      "318000_4880000\n",
      "['BART_027', 'BART_024', 'BART_003']\n",
      "318000_4881000\n",
      "['BART_081']\n"
     ]
    }
   ],
   "source": [
    "for index, row in coord_count.items():\n",
    "    print(index)\n",
    "    print(row)\n",
    "   \n",
    "\n",
    "   "
   ]
  },
  {
   "cell_type": "code",
   "execution_count": null,
   "metadata": {},
   "outputs": [],
   "source": []
  }
 ],
 "metadata": {
  "kernelspec": {
   "display_name": "Python 3",
   "language": "python",
   "name": "python3"
  },
  "language_info": {
   "codemirror_mode": {
    "name": "ipython",
    "version": 3
   },
   "file_extension": ".py",
   "mimetype": "text/x-python",
   "name": "python",
   "nbconvert_exporter": "python",
   "pygments_lexer": "ipython3",
   "version": "3.8.6"
  }
 },
 "nbformat": 4,
 "nbformat_minor": 4
}
