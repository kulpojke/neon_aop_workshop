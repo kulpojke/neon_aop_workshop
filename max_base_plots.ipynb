{
 "cells": [
  {
   "cell_type": "code",
   "execution_count": 1,
   "metadata": {},
   "outputs": [],
   "source": [
    "import rasterio as rio \n",
    "import gdal\n",
    "import math\n",
    "import requests\n",
    "import zipfile\n",
    "import os\n",
    "import pandas as pd \n",
    "import geopandas as gpd"
   ]
  },
  {
   "cell_type": "code",
   "execution_count": 2,
   "metadata": {},
   "outputs": [],
   "source": [
    "def round1000(x):\n",
    "    ''' \n",
    "    round1000(x):\n",
    "    Rounds value to nearest 1000\n",
    "    '''\n",
    "    return(1000 * math.floor(x / 1000))"
   ]
  },
  {
   "cell_type": "code",
   "execution_count": 3,
   "metadata": {},
   "outputs": [],
   "source": [
    "def is_on_boundary(x, y):\n",
    "    answer = [False, False]\n",
    "    r = 20\n",
    "    extent  = [x - r , x + r , y - r , y + r ]\n",
    "    names   = ['xMin', 'xMax', 'yMin', 'yMax']\n",
    "    extent = dict(zip(names, extent)) \n",
    "\n",
    "    # If the plot is on a horizontal tile boundary,\n",
    "    # that boundary falls between yMax and yMin\n",
    "    bound_below = round1000(extent['yMax'])\n",
    "    if  bound_below >= extent['yMin']:\n",
    "        answer[0] = True\n",
    "\n",
    "    # If the plot is on a vertical tile boundary,\n",
    "    # that boundary falls between xMax and xMin\n",
    "    bound_left = round1000(extent['xMax'])\n",
    "    if  bound_left >= extent['xMin']:\n",
    "        answer[1] = True\n",
    "\n",
    "    return(answer)\n"
   ]
  },
  {
   "cell_type": "code",
   "execution_count": 4,
   "metadata": {},
   "outputs": [],
   "source": [
    "def get_plot_coords(plot_spdf):\n",
    "    '''\n",
    "    Takes base plot entry, calculates coordinates\n",
    "    of tile and returns as a string\n",
    "    '''\n",
    "    x = float(plot_spdf[18])\n",
    "    y = float(plot_spdf[19])\n",
    "    boundary = is_on_boundary(x, y)\n",
    "\n",
    "    if boundary[0] or boundary[1]:\n",
    "        return('Plot crosses a tile boundary')"
   ]
  },
  {
   "cell_type": "code",
   "execution_count": 20,
   "metadata": {},
   "outputs": [],
   "source": [
    "def download_plots_shp(data_path='/home/jovyan/data/all_plots/'):\n",
    "    '''\n",
    "    Downloads the NEON TOS plots data\n",
    "    \n",
    "    --------\n",
    "    Parameters\n",
    "    --------\n",
    "    data_path path to which data will be downloaded\n",
    "    '''\n",
    "    # make data directory exists \n",
    "    os.makedirs(data_path, exist_ok=True)\n",
    "\n",
    "    handle = requests.get(url='https://data.neonscience.org/api/v0/documents/All_NEON_TOS_Plots_V8')\n",
    "    \n",
    "    with open(data_path + 'All_NEON_TOS_Plots_V8.zip', 'wb') as f:\n",
    "        f.write(handle.content)\n",
    "    \n",
    "    with zipfile.ZipFile(data_path + 'All_NEON_TOS_Plots_V8.zip', 'r') as zip_ref:\n",
    "        zip_ref.extractall(data_path)\n",
    "\n",
    "    NEON_all_plots = gpd.read_file(f'{data_path}All_NEON_TOS_Plots_V8/All_NEON_TOS_Plot_Polygons_V8.shp')\n",
    "    \n",
    "    return(NEON_all_plots)"
   ]
  },
  {
   "cell_type": "code",
   "execution_count": 22,
   "metadata": {},
   "outputs": [],
   "source": [
    "NEON_all_plots = download_plots_shp()"
   ]
  },
  {
   "cell_type": "code",
   "execution_count": 23,
   "metadata": {},
   "outputs": [
    {
     "data": {
      "text/plain": [
       "'/home/jovyan'"
      ]
     },
     "execution_count": 23,
     "metadata": {},
     "output_type": "execute_result"
    }
   ],
   "source": [
    "pwd"
   ]
  },
  {
   "cell_type": "code",
   "execution_count": null,
   "metadata": {},
   "outputs": [],
   "source": []
  }
 ],
 "metadata": {
  "kernelspec": {
   "display_name": "Python 3",
   "language": "python",
   "name": "python3"
  },
  "language_info": {
   "codemirror_mode": {
    "name": "ipython",
    "version": 3
   },
   "file_extension": ".py",
   "mimetype": "text/x-python",
   "name": "python",
   "nbconvert_exporter": "python",
   "pygments_lexer": "ipython3",
   "version": "3.8.6"
  }
 },
 "nbformat": 4,
 "nbformat_minor": 4
}
