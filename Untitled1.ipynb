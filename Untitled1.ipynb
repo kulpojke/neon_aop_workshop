{
 "cells": [
  {
   "cell_type": "code",
   "execution_count": 1,
   "metadata": {},
   "outputs": [
    {
     "name": "stderr",
     "output_type": "stream",
     "text": [
      "Updating HTML index of packages in '.Library'\n",
      "\n",
      "Making 'packages.html' ...\n",
      " done\n",
      "\n",
      "Updating HTML index of packages in '.Library'\n",
      "\n",
      "Making 'packages.html' ...\n",
      " done\n",
      "\n",
      "Downloading GitHub repo NEONScience/NEON-geolocation@HEAD\n",
      "\n"
     ]
    },
    {
     "name": "stdout",
     "output_type": "stream",
     "text": [
      "rgdal (NA -> 1.5-18) [CRAN]\n"
     ]
    },
    {
     "name": "stderr",
     "output_type": "stream",
     "text": [
      "Installing 1 packages: rgdal\n",
      "\n"
     ]
    },
    {
     "ename": "ERROR",
     "evalue": "Error: Failed to install 'geoNEON' from GitHub:\n  (converted from warning) installation of package ‘rgdal’ had non-zero exit status\n",
     "output_type": "error",
     "traceback": [
      "Error: Failed to install 'geoNEON' from GitHub:\n  (converted from warning) installation of package ‘rgdal’ had non-zero exit status\nTraceback:\n",
      "1. devtools::install_github(\"NEONScience/NEON-geolocation/geoNEON\")",
      "2. pkgbuild::with_build_tools({\n .     ellipsis::check_dots_used(action = getOption(\"devtools.ellipsis_action\", \n .         rlang::warn))\n .     {\n .         remotes <- lapply(repo, github_remote, ref = ref, subdir = subdir, \n .             auth_token = auth_token, host = host)\n .         install_remotes(remotes, auth_token = auth_token, host = host, \n .             dependencies = dependencies, upgrade = upgrade, force = force, \n .             quiet = quiet, build = build, build_opts = build_opts, \n .             build_manual = build_manual, build_vignettes = build_vignettes, \n .             repos = repos, type = type, ...)\n .     }\n . }, required = FALSE)",
      "3. install_remotes(remotes, auth_token = auth_token, host = host, \n .     dependencies = dependencies, upgrade = upgrade, force = force, \n .     quiet = quiet, build = build, build_opts = build_opts, build_manual = build_manual, \n .     build_vignettes = build_vignettes, repos = repos, type = type, \n .     ...)",
      "4. tryCatch(res[[i]] <- install_remote(remotes[[i]], ...), error = function(e) {\n .     stop(remote_install_error(remotes[[i]], e))\n . })",
      "5. tryCatchList(expr, classes, parentenv, handlers)",
      "6. tryCatchOne(expr, names, parentenv, handlers[[1L]])",
      "7. value[[3L]](cond)"
     ]
    }
   ],
   "source": [
    "install.packages(\"devtools\")\n",
    "install.packages(\"neonUtilities\")\n",
    "devtools::install_github(\"NEONScience/NEON-geolocation/geoNEON\")\n",
    "\n",
    "library(neonUtilities)\n",
    "library(geoNEON)\n",
    "\n",
    "options(stringsAsFactors=F) ##This is redundant for R versions 4.0.0+\n",
    "\n",
    "veg_str <- loadByProduct(dpID=\"DP1.10098.001\", site=\"WREF\", \n",
    "                         package=\"expanded\", check.size=T)\n",
    "\n",
    "list2env(veg_str, .GlobalEnv)\n",
    "\n",
    "## Use geoNEON to retrieve precise easting and northing for each tree\n",
    "names(vst_mappingandtagging) #this object was created using list2env() above\n",
    "vegmap <- geoNEON::getLocTOS(vst_mappingandtagging, \"vst_mappingandtagging\")\n",
    "names(vegmap)\n",
    "\n",
    "\n",
    "# Merge tables to join tree-specific data with the geospatial data\n",
    "veg <- merge(vst_apparentindividual, vegmap, by=c(\"individualID\",\"namedLocation\",\n",
    "                                                  \"domainID\",\"siteID\",\"plotID\"))\n",
    "\n",
    "\n",
    "\n",
    "symbols(veg$adjEasting[which(veg$plotID==\"WREF_085\")], \n",
    "        veg$adjNorthing[which(veg$plotID==\"WREF_085\")], \n",
    "        circles=veg$stemDiameter[which(veg$plotID==\"WREF_085\")]/100/2, #Divide by 100 to reduce cm displayed in m, and divide by 2 to reduce diameter to radius\n",
    "        xlab=\"Easting\", ylab=\"Northing\", inches=F)\n",
    "\n",
    "\n"
   ]
  },
  {
   "cell_type": "code",
   "execution_count": 4,
   "metadata": {},
   "outputs": [
    {
     "data": {
      "text/plain": [
       "               _                           \n",
       "platform       x86_64-conda-linux-gnu      \n",
       "arch           x86_64                      \n",
       "os             linux-gnu                   \n",
       "system         x86_64, linux-gnu           \n",
       "status                                     \n",
       "major          4                           \n",
       "minor          0.3                         \n",
       "year           2020                        \n",
       "month          10                          \n",
       "day            10                          \n",
       "svn rev        79318                       \n",
       "language       R                           \n",
       "version.string R version 4.0.3 (2020-10-10)\n",
       "nickname       Bunny-Wunnies Freak Out     "
      ]
     },
     "metadata": {},
     "output_type": "display_data"
    }
   ],
   "source": [
    "version"
   ]
  },
  {
   "cell_type": "code",
   "execution_count": 5,
   "metadata": {},
   "outputs": [],
   "source": [
    "library(sp)"
   ]
  },
  {
   "cell_type": "code",
   "execution_count": 6,
   "metadata": {},
   "outputs": [
    {
     "data": {
      "text/plain": [
       "R version 4.0.3 (2020-10-10)\n",
       "Platform: x86_64-conda-linux-gnu (64-bit)\n",
       "Running under: Ubuntu 20.04.1 LTS\n",
       "\n",
       "Matrix products: default\n",
       "BLAS/LAPACK: /opt/conda/lib/libopenblasp-r0.3.12.so\n",
       "\n",
       "locale:\n",
       " [1] LC_CTYPE=en_US.UTF-8       LC_NUMERIC=C              \n",
       " [3] LC_TIME=en_US.UTF-8        LC_COLLATE=en_US.UTF-8    \n",
       " [5] LC_MONETARY=en_US.UTF-8    LC_MESSAGES=en_US.UTF-8   \n",
       " [7] LC_PAPER=en_US.UTF-8       LC_NAME=C                 \n",
       " [9] LC_ADDRESS=C               LC_TELEPHONE=C            \n",
       "[11] LC_MEASUREMENT=en_US.UTF-8 LC_IDENTIFICATION=C       \n",
       "\n",
       "attached base packages:\n",
       "[1] stats     graphics  grDevices utils     datasets  methods   base     \n",
       "\n",
       "other attached packages:\n",
       "[1] sp_1.4-4\n",
       "\n",
       "loaded via a namespace (and not attached):\n",
       " [1] pillar_1.4.6      compiler_4.0.3    prettyunits_1.1.1 base64enc_0.1-3  \n",
       " [5] remotes_2.2.0     tools_4.0.3       testthat_3.0.0    digest_0.6.27    \n",
       " [9] pkgbuild_1.1.0    uuid_0.1-4        pkgload_1.1.0     lattice_0.20-41  \n",
       "[13] jsonlite_1.7.1    evaluate_0.14     memoise_1.1.0     lifecycle_0.2.0  \n",
       "[17] rlang_0.4.8       IRdisplay_0.7.0   cli_2.1.0         IRkernel_1.1.1   \n",
       "[21] curl_4.3          repr_1.1.0        withr_2.3.0       desc_1.2.0       \n",
       "[25] fs_1.5.0          devtools_2.3.2    grid_4.0.3        rprojroot_1.3-2  \n",
       "[29] glue_1.4.2        R6_2.5.0          processx_3.4.4    fansi_0.4.1      \n",
       "[33] sessioninfo_1.1.1 pbdZMQ_0.3-3.1    callr_3.5.1       magrittr_1.5     \n",
       "[37] backports_1.2.0   ps_1.4.0          ellipsis_0.3.1    htmltools_0.5.0  \n",
       "[41] usethis_1.6.3     assertthat_0.2.1  crayon_1.3.4     "
      ]
     },
     "metadata": {},
     "output_type": "display_data"
    }
   ],
   "source": [
    "sessionInfo()"
   ]
  },
  {
   "cell_type": "code",
   "execution_count": 7,
   "metadata": {},
   "outputs": [
    {
     "ename": "ERROR",
     "evalue": "Error in eval(expr, envir, enclos): object 'gdal' not found\n",
     "output_type": "error",
     "traceback": [
      "Error in eval(expr, envir, enclos): object 'gdal' not found\nTraceback:\n"
     ]
    }
   ],
   "source": [
    "!gdal"
   ]
  },
  {
   "cell_type": "code",
   "execution_count": 8,
   "metadata": {},
   "outputs": [
    {
     "ename": "ERROR",
     "evalue": "Error in !ls: invalid argument type\n",
     "output_type": "error",
     "traceback": [
      "Error in !ls: invalid argument type\nTraceback:\n"
     ]
    }
   ],
   "source": [
    "!ls"
   ]
  },
  {
   "cell_type": "code",
   "execution_count": null,
   "metadata": {},
   "outputs": [],
   "source": []
  }
 ],
 "metadata": {
  "kernelspec": {
   "display_name": "R",
   "language": "R",
   "name": "ir"
  },
  "language_info": {
   "codemirror_mode": "r",
   "file_extension": ".r",
   "mimetype": "text/x-r-source",
   "name": "R",
   "pygments_lexer": "r",
   "version": "4.0.3"
  }
 },
 "nbformat": 4,
 "nbformat_minor": 4
}
