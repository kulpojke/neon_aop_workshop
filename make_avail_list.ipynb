{
 "cells": [
  {
   "cell_type": "code",
   "execution_count": 1,
   "metadata": {},
   "outputs": [],
   "source": [
    "import requests\n",
    "import json"
   ]
  },
  {
   "cell_type": "markdown",
   "metadata": {},
   "source": [
    "See for which sites woody plant vegetation (10098)  is available. "
   ]
  },
  {
   "cell_type": "code",
   "execution_count": 2,
   "metadata": {},
   "outputs": [],
   "source": [
    "sites = ['BART','HARV','BLAN','SCBI','SERC','DSNY','JERC','OSBS','GUAN',\n",
    "         'LAJA','STEI','TREE','UNDE','KONA','KONZ','UKFS','GRSM','MLBS',\n",
    "         'ORNL','DELA','LENO','TALL','DCFS','NOGP','WOOD','CPER','RMNP',\n",
    "         'STER','CLBJ','OAES','YELL','MOAB','NIWO','JORN','SRER','ONAQ',\n",
    "         'ABBY','WREF','SJER','SOAP','TEAK','BARR','TOOL','BONA','DEJU',\n",
    "         'HEAL','PUUM']\n",
    "\n",
    "dpIDs=['DP1.10098.001']"
   ]
  },
  {
   "cell_type": "markdown",
   "metadata": {},
   "source": [
    "The function below is copied from what is currently called max_base_plots.py (as of 2020-11-27) and will eventually be part of a library"
   ]
  },
  {
   "cell_type": "code",
   "execution_count": 3,
   "metadata": {},
   "outputs": [],
   "source": [
    "def findDatesAvailable(dpID, site):\n",
    "    server = 'https://data.neonscience.org/api/v0/'\n",
    "    url = f'{server}sites/{site}'\n",
    "    response = requests.get(url)\n",
    "    data = response.json()['data']\n",
    "    dataProducts = data['dataProducts']\n",
    "    dates = None\n",
    "    for dp in dataProducts:\n",
    "        if dp['dataProductCode'] == dpID:\n",
    "            dates = dp['availableMonths']\n",
    "    return(dates)"
   ]
  },
  {
   "cell_type": "markdown",
   "metadata": {},
   "source": [
    "Lets make a nice function to make a dict."
   ]
  },
  {
   "cell_type": "code",
   "execution_count": 4,
   "metadata": {},
   "outputs": [],
   "source": [
    "def make_availability_dict(dpIDs, sites):\n",
    "    available = dict()\n",
    "    for site in sites:\n",
    "        for dpID in dpIDs:\n",
    "            id_dict = {dpID : findDatesAvailable(dpID, site)}\n",
    "        available[site] = id_dict\n",
    "    return(available)"
   ]
  },
  {
   "cell_type": "code",
   "execution_count": 5,
   "metadata": {},
   "outputs": [],
   "source": [
    "available = make_availability_dict(dpIDs, sites)"
   ]
  },
  {
   "cell_type": "code",
   "execution_count": 12,
   "metadata": {},
   "outputs": [],
   "source": [
    "available_sites = []\n",
    "for key, val in available.items():\n",
    "    if type(val['DP1.10098.001']) == list:\n",
    "        if len(val['DP1.10098.001']) > 0:\n",
    "            available_sites.append(key)\n",
    "        else:\n",
    "            print(f'{key} - DP1.10098.001 - held an empty list.')\n"
   ]
  },
  {
   "cell_type": "markdown",
   "metadata": {},
   "source": [
    "Mow many sites had no data."
   ]
  },
  {
   "cell_type": "code",
   "execution_count": 14,
   "metadata": {},
   "outputs": [
    {
     "data": {
      "text/plain": [
       "5"
      ]
     },
     "execution_count": 14,
     "metadata": {},
     "output_type": "execute_result"
    }
   ],
   "source": [
    "len(sites)-len(available_sites)"
   ]
  },
  {
   "cell_type": "code",
   "execution_count": 15,
   "metadata": {},
   "outputs": [
    {
     "data": {
      "text/plain": [
       "['BART',\n",
       " 'HARV',\n",
       " 'BLAN',\n",
       " 'SCBI',\n",
       " 'SERC',\n",
       " 'DSNY',\n",
       " 'JERC',\n",
       " 'OSBS',\n",
       " 'GUAN',\n",
       " 'LAJA',\n",
       " 'STEI',\n",
       " 'TREE',\n",
       " 'UNDE',\n",
       " 'KONZ',\n",
       " 'UKFS',\n",
       " 'GRSM',\n",
       " 'MLBS',\n",
       " 'ORNL',\n",
       " 'DELA',\n",
       " 'LENO',\n",
       " 'TALL',\n",
       " 'DCFS',\n",
       " 'NOGP',\n",
       " 'WOOD',\n",
       " 'CPER',\n",
       " 'RMNP',\n",
       " 'CLBJ',\n",
       " 'YELL',\n",
       " 'MOAB',\n",
       " 'NIWO',\n",
       " 'JORN',\n",
       " 'SRER',\n",
       " 'ONAQ',\n",
       " 'ABBY',\n",
       " 'WREF',\n",
       " 'SJER',\n",
       " 'SOAP',\n",
       " 'TEAK',\n",
       " 'BONA',\n",
       " 'DEJU',\n",
       " 'HEAL',\n",
       " 'PUUM']"
      ]
     },
     "execution_count": 15,
     "metadata": {},
     "output_type": "execute_result"
    }
   ],
   "source": [
    "available_sites"
   ]
  },
  {
   "cell_type": "code",
   "execution_count": null,
   "metadata": {},
   "outputs": [],
   "source": []
  }
 ],
 "metadata": {
  "kernelspec": {
   "display_name": "Python 3",
   "language": "python",
   "name": "python3"
  },
  "language_info": {
   "codemirror_mode": {
    "name": "ipython",
    "version": 3
   },
   "file_extension": ".py",
   "mimetype": "text/x-python",
   "name": "python",
   "nbconvert_exporter": "python",
   "pygments_lexer": "ipython3",
   "version": "3.8.6"
  }
 },
 "nbformat": 4,
 "nbformat_minor": 4
}
